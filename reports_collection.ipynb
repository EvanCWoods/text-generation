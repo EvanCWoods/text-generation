{
  "nbformat": 4,
  "nbformat_minor": 0,
  "metadata": {
    "colab": {
      "name": "reports-collection.ipynb",
      "provenance": [],
      "authorship_tag": "ABX9TyMgnqI3oBY4pJkBhfS3EMLj"
    },
    "kernelspec": {
      "name": "python3",
      "display_name": "Python 3"
    },
    "language_info": {
      "name": "python"
    }
  },
  "cells": [
    {
      "cell_type": "markdown",
      "metadata": {
        "id": "dMQHGQqef2TQ"
      },
      "source": [
        "# Import Libraries:"
      ]
    },
    {
      "cell_type": "code",
      "metadata": {
        "id": "EPScHUYmfpSz"
      },
      "source": [
        "import tensorflow as tf\n",
        "import matplotlib.pyplot as plt\n",
        "import tensorflow_datasets as tfds\n",
        "import numpy as np\n",
        "from tensorflow.keras.preprocessing.text import Tokenizer\n",
        "from tensorflow.keras.preprocessing.sequence import pad_sequences"
      ],
      "execution_count": 35,
      "outputs": []
    },
    {
      "cell_type": "markdown",
      "metadata": {
        "id": "h_E9Nt-jgBBi"
      },
      "source": [
        "# Get The Data:"
      ]
    },
    {
      "cell_type": "code",
      "metadata": {
        "colab": {
          "base_uri": "https://localhost:8080/"
        },
        "id": "qeKXKx7aDqD6",
        "outputId": "f3bf43f0-7d2f-434e-d2c4-79e48aa3547f"
      },
      "source": [
        "filepath = '/content/data.txt'\n",
        "\n",
        "with open(filepath) as f:\n",
        "  data = f.read()\n",
        "\n",
        "print(data[:1000])"
      ],
      "execution_count": 118,
      "outputs": [
        {
          "output_type": "stream",
          "text": [
            "In the technological era the ability to work deeply and thoughtfully on a specific issue is becoming increasingly rare. \n",
            "The constant connectivity of individuals is a leading cause of the alarming lack of ability to go deep into a subject and it is becoming more rare each day. \n",
            "This book starts in part one by explaining the reasons for the ability to work deeply being so important, especially in today's age. \n",
            "These are: deep work is rare, valuable and meaningful. \n",
            "The idea is that the ability to think deeply is a commodity rarer than any other and as a result is becoming increasingly valuable. \n",
            "The book then discusses in part two what the leading causes for the mental rut that is keeping people from achieving the ability to think deeply and ways to get out of it.  \n",
            "These are: Practice working deeply,  embrace boredom, quit social media and drain the shallows.\n",
            "\n",
            "Part one of the book sets the concepts behind a better understanding of what deep work is and why it is so important to be able\n"
          ],
          "name": "stdout"
        }
      ]
    },
    {
      "cell_type": "markdown",
      "metadata": {
        "id": "Nikx7nhNgT46"
      },
      "source": [
        "# Preprocess The Data:"
      ]
    },
    {
      "cell_type": "code",
      "metadata": {
        "colab": {
          "base_uri": "https://localhost:8080/"
        },
        "id": "kpHhhg2bDWtX",
        "outputId": "74eb8ebf-11d0-43ec-beee-49bfe101a5df"
      },
      "source": [
        "corpus = data.split('.')\n",
        "print(corpus[0:3])"
      ],
      "execution_count": 120,
      "outputs": [
        {
          "output_type": "stream",
          "text": [
            "['In the technological era the ability to work deeply and thoughtfully on a specific issue is becoming increasingly rare', ' \\nThe constant connectivity of individuals is a leading cause of the alarming lack of ability to go deep into a subject and it is becoming more rare each day', \" \\nThis book starts in part one by explaining the reasons for the ability to work deeply being so important, especially in today's age\"]\n"
          ],
          "name": "stdout"
        }
      ]
    },
    {
      "cell_type": "code",
      "metadata": {
        "colab": {
          "base_uri": "https://localhost:8080/"
        },
        "id": "NK3lhbfnGpEn",
        "outputId": "b4c8f440-fe89-4e88-d75e-a09ad392e65a"
      },
      "source": [
        "tokenizer = Tokenizer()\n",
        "tokenizer.fit_on_texts(corpus)\n",
        "word_index = tokenizer.word_index\n",
        "total_words = len(word_index) + 1\n",
        "print(total_words)"
      ],
      "execution_count": 121,
      "outputs": [
        {
          "output_type": "stream",
          "text": [
            "971\n"
          ],
          "name": "stdout"
        }
      ]
    },
    {
      "cell_type": "code",
      "metadata": {
        "colab": {
          "base_uri": "https://localhost:8080/"
        },
        "id": "1QFOAg_kGfB2",
        "outputId": "455b875c-d9c8-4533-833a-6f76a1cf0fe6"
      },
      "source": [
        "input_sequences = []\n",
        "\n",
        "for line in corpus:\n",
        "  token_list = tokenizer.texts_to_sequences([line])[0]\n",
        "  for i in range(1, len(token_list)):\n",
        "    n_gram_sequences = token_list[:i+1]\n",
        "    input_sequences.append(n_gram_sequences)\n",
        "  \n",
        "max_sequence_length = max([len(x) for x in input_sequences])\n",
        "input_sequences = np.array(tf.keras.preprocessing.sequence.pad_sequences(input_sequences,\n",
        "                                                                         maxlen=max_sequence_length))\n",
        "\n",
        "print(max_sequence_length)"
      ],
      "execution_count": 126,
      "outputs": [
        {
          "output_type": "stream",
          "text": [
            "130\n"
          ],
          "name": "stdout"
        }
      ]
    },
    {
      "cell_type": "code",
      "metadata": {
        "id": "BdJvRMTFIZw2"
      },
      "source": [
        "xs = input_sequences[:,:-1]\n",
        "ys = input_sequences[:,-1]\n",
        "labels = tf.keras.utils.to_categorical(ys, num_classes=total_words)"
      ],
      "execution_count": 127,
      "outputs": []
    },
    {
      "cell_type": "markdown",
      "metadata": {
        "id": "aFJBAiAkDqqB"
      },
      "source": [
        "# Create The Model"
      ]
    },
    {
      "cell_type": "code",
      "metadata": {
        "colab": {
          "base_uri": "https://localhost:8080/"
        },
        "id": "BPdmkROWH5I5",
        "outputId": "082ebf07-a28c-4d55-c8b6-7d88cf844f46"
      },
      "source": [
        "model = tf.keras.Sequential([\n",
        "  tf.keras.layers.Embedding(total_words, 32, input_length=max_sequence_length),\n",
        "  tf.keras.layers.Bidirectional(tf.keras.layers.LSTM(64, return_sequences=True)),\n",
        "  tf.keras.layers.Bidirectional(tf.keras.layers.LSTM(64, return_sequences=True)),\n",
        "  tf.keras.layers.LSTM(64),\n",
        "  tf.keras.layers.Dense(64, activation='relu'),\n",
        "  tf.keras.layers.Dense(485, activation='relu'),\n",
        "  tf.keras.layers.Dense(971, activation='softmax'),\n",
        "])\n",
        "model.summary()"
      ],
      "execution_count": 128,
      "outputs": [
        {
          "output_type": "stream",
          "text": [
            "Model: \"sequential\"\n",
            "_________________________________________________________________\n",
            "Layer (type)                 Output Shape              Param #   \n",
            "=================================================================\n",
            "embedding (Embedding)        (None, 130, 32)           31072     \n",
            "_________________________________________________________________\n",
            "bidirectional (Bidirectional (None, 130, 128)          49664     \n",
            "_________________________________________________________________\n",
            "bidirectional_1 (Bidirection (None, 130, 128)          98816     \n",
            "_________________________________________________________________\n",
            "lstm_2 (LSTM)                (None, 64)                49408     \n",
            "_________________________________________________________________\n",
            "dense (Dense)                (None, 64)                4160      \n",
            "_________________________________________________________________\n",
            "dense_1 (Dense)              (None, 485)               31525     \n",
            "_________________________________________________________________\n",
            "dense_2 (Dense)              (None, 971)               471906    \n",
            "=================================================================\n",
            "Total params: 736,551\n",
            "Trainable params: 736,551\n",
            "Non-trainable params: 0\n",
            "_________________________________________________________________\n"
          ],
          "name": "stdout"
        }
      ]
    },
    {
      "cell_type": "code",
      "metadata": {
        "colab": {
          "base_uri": "https://localhost:8080/"
        },
        "id": "3mPw5eXUIobm",
        "outputId": "692ebf42-31bd-4ed8-d3d0-86f9b79f4dfe"
      },
      "source": [
        "model.compile(loss='categorical_crossentropy',\n",
        "              optimizer='adam',\n",
        "              metrics=['accuracy'])\n",
        "\n",
        "history = model.fit(xs, labels, epochs=100)"
      ],
      "execution_count": 130,
      "outputs": [
        {
          "output_type": "stream",
          "text": [
            "Epoch 1/100\n",
            "WARNING:tensorflow:Model was constructed with shape (None, 130) for input KerasTensor(type_spec=TensorSpec(shape=(None, 130), dtype=tf.float32, name='embedding_input'), name='embedding_input', description=\"created by layer 'embedding_input'\"), but it was called on an input with incompatible shape (None, 129).\n"
          ],
          "name": "stdout"
        },
        {
          "output_type": "stream",
          "text": [
            "WARNING:tensorflow:Model was constructed with shape (None, 130) for input KerasTensor(type_spec=TensorSpec(shape=(None, 130), dtype=tf.float32, name='embedding_input'), name='embedding_input', description=\"created by layer 'embedding_input'\"), but it was called on an input with incompatible shape (None, 129).\n"
          ],
          "name": "stderr"
        },
        {
          "output_type": "stream",
          "text": [
            "WARNING:tensorflow:Model was constructed with shape (None, 130) for input KerasTensor(type_spec=TensorSpec(shape=(None, 130), dtype=tf.float32, name='embedding_input'), name='embedding_input', description=\"created by layer 'embedding_input'\"), but it was called on an input with incompatible shape (None, 129).\n"
          ],
          "name": "stdout"
        },
        {
          "output_type": "stream",
          "text": [
            "WARNING:tensorflow:Model was constructed with shape (None, 130) for input KerasTensor(type_spec=TensorSpec(shape=(None, 130), dtype=tf.float32, name='embedding_input'), name='embedding_input', description=\"created by layer 'embedding_input'\"), but it was called on an input with incompatible shape (None, 129).\n"
          ],
          "name": "stderr"
        },
        {
          "output_type": "stream",
          "text": [
            "92/92 [==============================] - 32s 258ms/step - loss: 6.3520 - accuracy: 0.0510\n",
            "Epoch 2/100\n",
            "92/92 [==============================] - 24s 258ms/step - loss: 5.9994 - accuracy: 0.0531\n",
            "Epoch 3/100\n",
            "92/92 [==============================] - 24s 259ms/step - loss: 5.8888 - accuracy: 0.0552\n",
            "Epoch 4/100\n",
            "92/92 [==============================] - 24s 259ms/step - loss: 5.7246 - accuracy: 0.0528\n",
            "Epoch 5/100\n",
            "92/92 [==============================] - 24s 258ms/step - loss: 5.5658 - accuracy: 0.0596\n",
            "Epoch 6/100\n",
            "92/92 [==============================] - 24s 258ms/step - loss: 5.4480 - accuracy: 0.0719\n",
            "Epoch 7/100\n",
            "92/92 [==============================] - 24s 260ms/step - loss: 5.3566 - accuracy: 0.0788\n",
            "Epoch 8/100\n",
            "92/92 [==============================] - 24s 259ms/step - loss: 5.2500 - accuracy: 0.0815\n",
            "Epoch 9/100\n",
            "92/92 [==============================] - 24s 259ms/step - loss: 5.1382 - accuracy: 0.0891\n",
            "Epoch 10/100\n",
            "92/92 [==============================] - 24s 258ms/step - loss: 5.0095 - accuracy: 0.0990\n",
            "Epoch 11/100\n",
            "92/92 [==============================] - 24s 260ms/step - loss: 4.8939 - accuracy: 0.0956\n",
            "Epoch 12/100\n",
            "92/92 [==============================] - 24s 259ms/step - loss: 4.7994 - accuracy: 0.1062\n",
            "Epoch 13/100\n",
            "92/92 [==============================] - 24s 259ms/step - loss: 4.7000 - accuracy: 0.1083\n",
            "Epoch 14/100\n",
            "92/92 [==============================] - 24s 258ms/step - loss: 4.5964 - accuracy: 0.1120\n",
            "Epoch 15/100\n",
            "92/92 [==============================] - 24s 258ms/step - loss: 4.5141 - accuracy: 0.1185\n",
            "Epoch 16/100\n",
            "92/92 [==============================] - 24s 259ms/step - loss: 4.4336 - accuracy: 0.1216\n",
            "Epoch 17/100\n",
            "92/92 [==============================] - 24s 258ms/step - loss: 4.3465 - accuracy: 0.1261\n",
            "Epoch 18/100\n",
            "92/92 [==============================] - 24s 260ms/step - loss: 4.2777 - accuracy: 0.1268\n",
            "Epoch 19/100\n",
            "92/92 [==============================] - 24s 259ms/step - loss: 4.2061 - accuracy: 0.1367\n",
            "Epoch 20/100\n",
            "92/92 [==============================] - 24s 258ms/step - loss: 4.1156 - accuracy: 0.1401\n",
            "Epoch 21/100\n",
            "92/92 [==============================] - 24s 259ms/step - loss: 4.0392 - accuracy: 0.1459\n",
            "Epoch 22/100\n",
            "92/92 [==============================] - 24s 259ms/step - loss: 3.9797 - accuracy: 0.1501\n",
            "Epoch 23/100\n",
            "92/92 [==============================] - 24s 259ms/step - loss: 3.9123 - accuracy: 0.1559\n",
            "Epoch 24/100\n",
            "92/92 [==============================] - 24s 260ms/step - loss: 3.8419 - accuracy: 0.1634\n",
            "Epoch 25/100\n",
            "92/92 [==============================] - 24s 259ms/step - loss: 3.7815 - accuracy: 0.1682\n",
            "Epoch 26/100\n",
            "92/92 [==============================] - 24s 261ms/step - loss: 3.7084 - accuracy: 0.1668\n",
            "Epoch 27/100\n",
            "92/92 [==============================] - 24s 259ms/step - loss: 3.6820 - accuracy: 0.1781\n",
            "Epoch 28/100\n",
            "92/92 [==============================] - 24s 259ms/step - loss: 3.6108 - accuracy: 0.1733\n",
            "Epoch 29/100\n",
            "92/92 [==============================] - 24s 259ms/step - loss: 3.5429 - accuracy: 0.1840\n",
            "Epoch 30/100\n",
            "92/92 [==============================] - 24s 259ms/step - loss: 3.4947 - accuracy: 0.1802\n",
            "Epoch 31/100\n",
            "92/92 [==============================] - 24s 259ms/step - loss: 3.4480 - accuracy: 0.1953\n",
            "Epoch 32/100\n",
            "92/92 [==============================] - 24s 259ms/step - loss: 3.3958 - accuracy: 0.1939\n",
            "Epoch 33/100\n",
            "92/92 [==============================] - 24s 259ms/step - loss: 3.3386 - accuracy: 0.1980\n",
            "Epoch 34/100\n",
            "92/92 [==============================] - 24s 259ms/step - loss: 3.3054 - accuracy: 0.2001\n",
            "Epoch 35/100\n",
            "92/92 [==============================] - 24s 259ms/step - loss: 3.2423 - accuracy: 0.2114\n",
            "Epoch 36/100\n",
            "92/92 [==============================] - 24s 259ms/step - loss: 3.2046 - accuracy: 0.2086\n",
            "Epoch 37/100\n",
            "92/92 [==============================] - 24s 259ms/step - loss: 3.1406 - accuracy: 0.2158\n",
            "Epoch 38/100\n",
            "92/92 [==============================] - 24s 259ms/step - loss: 3.0982 - accuracy: 0.2217\n",
            "Epoch 39/100\n",
            "92/92 [==============================] - 24s 259ms/step - loss: 3.0434 - accuracy: 0.2155\n",
            "Epoch 40/100\n",
            "92/92 [==============================] - 24s 259ms/step - loss: 3.0209 - accuracy: 0.2234\n",
            "Epoch 41/100\n",
            "92/92 [==============================] - 24s 260ms/step - loss: 2.9697 - accuracy: 0.2425\n",
            "Epoch 42/100\n",
            "92/92 [==============================] - 24s 258ms/step - loss: 2.9150 - accuracy: 0.2398\n",
            "Epoch 43/100\n",
            "92/92 [==============================] - 24s 259ms/step - loss: 2.8757 - accuracy: 0.2631\n",
            "Epoch 44/100\n",
            "92/92 [==============================] - 24s 260ms/step - loss: 2.8174 - accuracy: 0.2439\n",
            "Epoch 45/100\n",
            "92/92 [==============================] - 24s 258ms/step - loss: 2.7648 - accuracy: 0.2703\n",
            "Epoch 46/100\n",
            "92/92 [==============================] - 24s 258ms/step - loss: 2.7353 - accuracy: 0.2645\n",
            "Epoch 47/100\n",
            "92/92 [==============================] - 24s 259ms/step - loss: 2.6717 - accuracy: 0.2730\n",
            "Epoch 48/100\n",
            "92/92 [==============================] - 24s 260ms/step - loss: 2.6482 - accuracy: 0.2861\n",
            "Epoch 49/100\n",
            "92/92 [==============================] - 24s 260ms/step - loss: 2.6466 - accuracy: 0.2864\n",
            "Epoch 50/100\n",
            "92/92 [==============================] - 24s 261ms/step - loss: 2.5891 - accuracy: 0.2919\n",
            "Epoch 51/100\n",
            "92/92 [==============================] - 24s 261ms/step - loss: 2.5447 - accuracy: 0.3042\n",
            "Epoch 52/100\n",
            "92/92 [==============================] - 24s 259ms/step - loss: 2.4962 - accuracy: 0.3070\n",
            "Epoch 53/100\n",
            "92/92 [==============================] - 24s 259ms/step - loss: 2.4603 - accuracy: 0.3200\n",
            "Epoch 54/100\n",
            "92/92 [==============================] - 24s 259ms/step - loss: 2.4094 - accuracy: 0.3261\n",
            "Epoch 55/100\n",
            "92/92 [==============================] - 24s 258ms/step - loss: 2.4064 - accuracy: 0.3165\n",
            "Epoch 56/100\n",
            "92/92 [==============================] - 24s 259ms/step - loss: 2.3530 - accuracy: 0.3333\n",
            "Epoch 57/100\n",
            "92/92 [==============================] - 24s 260ms/step - loss: 2.2951 - accuracy: 0.3436\n",
            "Epoch 58/100\n",
            "92/92 [==============================] - 24s 259ms/step - loss: 2.2565 - accuracy: 0.3481\n",
            "Epoch 59/100\n",
            "92/92 [==============================] - 24s 259ms/step - loss: 2.2700 - accuracy: 0.3556\n",
            "Epoch 60/100\n",
            "92/92 [==============================] - 24s 258ms/step - loss: 2.2062 - accuracy: 0.3553\n",
            "Epoch 61/100\n",
            "92/92 [==============================] - 24s 259ms/step - loss: 2.1690 - accuracy: 0.3734\n",
            "Epoch 62/100\n",
            "92/92 [==============================] - 24s 260ms/step - loss: 2.1671 - accuracy: 0.3672\n",
            "Epoch 63/100\n",
            "92/92 [==============================] - 24s 260ms/step - loss: 2.1175 - accuracy: 0.3786\n",
            "Epoch 64/100\n",
            "92/92 [==============================] - 24s 261ms/step - loss: 2.0615 - accuracy: 0.3964\n",
            "Epoch 65/100\n",
            "92/92 [==============================] - 24s 262ms/step - loss: 2.0084 - accuracy: 0.4012\n",
            "Epoch 66/100\n",
            "92/92 [==============================] - 24s 260ms/step - loss: 1.9367 - accuracy: 0.4224\n",
            "Epoch 67/100\n",
            "92/92 [==============================] - 24s 260ms/step - loss: 1.9342 - accuracy: 0.4310\n",
            "Epoch 68/100\n",
            "92/92 [==============================] - 24s 260ms/step - loss: 1.9405 - accuracy: 0.4169\n",
            "Epoch 69/100\n",
            "92/92 [==============================] - 24s 258ms/step - loss: 1.9310 - accuracy: 0.4176\n",
            "Epoch 70/100\n",
            "92/92 [==============================] - 24s 259ms/step - loss: 1.8801 - accuracy: 0.4354\n",
            "Epoch 71/100\n",
            "92/92 [==============================] - 24s 262ms/step - loss: 1.8775 - accuracy: 0.4286\n",
            "Epoch 72/100\n",
            "92/92 [==============================] - 24s 263ms/step - loss: 1.8673 - accuracy: 0.4481\n",
            "Epoch 73/100\n",
            "92/92 [==============================] - 24s 261ms/step - loss: 1.7901 - accuracy: 0.4645\n",
            "Epoch 74/100\n",
            "92/92 [==============================] - 24s 259ms/step - loss: 1.7041 - accuracy: 0.4861\n",
            "Epoch 75/100\n",
            "92/92 [==============================] - 24s 259ms/step - loss: 1.6588 - accuracy: 0.4896\n",
            "Epoch 76/100\n",
            "92/92 [==============================] - 24s 260ms/step - loss: 1.6283 - accuracy: 0.5074\n",
            "Epoch 77/100\n",
            "92/92 [==============================] - 24s 260ms/step - loss: 1.5963 - accuracy: 0.5170\n",
            "Epoch 78/100\n",
            "92/92 [==============================] - 24s 260ms/step - loss: 1.6162 - accuracy: 0.5108\n",
            "Epoch 79/100\n",
            "92/92 [==============================] - 24s 259ms/step - loss: 1.5672 - accuracy: 0.5173\n",
            "Epoch 80/100\n",
            "92/92 [==============================] - 24s 261ms/step - loss: 1.5256 - accuracy: 0.5334\n",
            "Epoch 81/100\n",
            "92/92 [==============================] - 24s 262ms/step - loss: 1.5030 - accuracy: 0.5331\n",
            "Epoch 82/100\n",
            "92/92 [==============================] - 24s 263ms/step - loss: 1.4810 - accuracy: 0.5324\n",
            "Epoch 83/100\n",
            "92/92 [==============================] - 24s 264ms/step - loss: 1.4874 - accuracy: 0.5375\n",
            "Epoch 84/100\n",
            "92/92 [==============================] - 24s 262ms/step - loss: 1.4442 - accuracy: 0.5557\n",
            "Epoch 85/100\n",
            "92/92 [==============================] - 24s 261ms/step - loss: 1.4505 - accuracy: 0.5423\n",
            "Epoch 86/100\n",
            "92/92 [==============================] - 24s 264ms/step - loss: 1.3553 - accuracy: 0.5745\n",
            "Epoch 87/100\n",
            "92/92 [==============================] - 24s 262ms/step - loss: 1.3387 - accuracy: 0.5868\n",
            "Epoch 88/100\n",
            "92/92 [==============================] - 24s 261ms/step - loss: 1.3001 - accuracy: 0.5961\n",
            "Epoch 89/100\n",
            "92/92 [==============================] - 24s 260ms/step - loss: 1.2963 - accuracy: 0.5978\n",
            "Epoch 90/100\n",
            "92/92 [==============================] - 24s 260ms/step - loss: 1.2382 - accuracy: 0.6149\n",
            "Epoch 91/100\n",
            "92/92 [==============================] - 24s 260ms/step - loss: 1.1872 - accuracy: 0.6331\n",
            "Epoch 92/100\n",
            "92/92 [==============================] - 24s 260ms/step - loss: 1.2250 - accuracy: 0.6190\n",
            "Epoch 93/100\n",
            "92/92 [==============================] - 24s 262ms/step - loss: 1.2412 - accuracy: 0.6108\n",
            "Epoch 94/100\n",
            "92/92 [==============================] - 24s 260ms/step - loss: 1.2216 - accuracy: 0.6194\n",
            "Epoch 95/100\n",
            "92/92 [==============================] - 24s 259ms/step - loss: 1.1209 - accuracy: 0.6454\n",
            "Epoch 96/100\n",
            "92/92 [==============================] - 24s 260ms/step - loss: 1.0882 - accuracy: 0.6571\n",
            "Epoch 97/100\n",
            "92/92 [==============================] - 24s 259ms/step - loss: 1.0843 - accuracy: 0.6557\n",
            "Epoch 98/100\n",
            "92/92 [==============================] - 24s 260ms/step - loss: 1.0647 - accuracy: 0.6715\n",
            "Epoch 99/100\n",
            "92/92 [==============================] - 24s 261ms/step - loss: 1.0455 - accuracy: 0.6697\n",
            "Epoch 100/100\n",
            "92/92 [==============================] - 24s 259ms/step - loss: 1.0479 - accuracy: 0.6663\n"
          ],
          "name": "stdout"
        }
      ]
    },
    {
      "cell_type": "code",
      "metadata": {
        "id": "9bKHMy7fIzxF"
      },
      "source": [
        "def plot(history, metric):\n",
        "  plt.plot(history.history[metric], label=metric)\n",
        "  plt.xlabel('Epochs')\n",
        "  plt.ylabel(metric)\n",
        "  plt.legend()"
      ],
      "execution_count": 135,
      "outputs": []
    },
    {
      "cell_type": "code",
      "metadata": {
        "colab": {
          "base_uri": "https://localhost:8080/",
          "height": 279
        },
        "id": "hFvhIMKoJQ6U",
        "outputId": "e2a8703e-0384-4593-ee5a-7ee78b135733"
      },
      "source": [
        "acc_plot = plot(history=history, metric='accuracy')\n",
        "loss_plot = plot(history=history, metric='loss')\n",
        "\n",
        "acc_plot\n",
        "loss_plot"
      ],
      "execution_count": 136,
      "outputs": [
        {
          "output_type": "display_data",
          "data": {
            "image/png": "[encoded data removed]",
            "text/plain": [
              "<Figure size 432x288 with 1 Axes>"
            ]
          },
          "metadata": {
            "tags": [],
            "needs_background": "light"
          }
        }
      ]
    },
    {
      "cell_type": "code",
      "metadata": {
        "colab": {
          "base_uri": "https://localhost:8080/"
        },
        "id": "S02MjSrWSKYN",
        "outputId": "0f238c1c-221f-4164-d9cc-a5e9542a22c7"
      },
      "source": [
        "seed_text = 'the first time'\n",
        "next_words = 25\n",
        "\n",
        "for _ in range(next_words):\n",
        "\ttoken_list = tokenizer.texts_to_sequences([seed_text])[0]\n",
        "\ttoken_list = pad_sequences([token_list], maxlen=max_sequence_length-1, padding='pre')\n",
        "\tpredicted = model.predict_classes(token_list, verbose=0)\n",
        "\toutput_word = \"\"\n",
        "\tfor word, index in tokenizer.word_index.items():\n",
        "\t\tif index == predicted:\n",
        "\t\t\toutput_word = word\n",
        "\t\t\tbreak\n",
        "\tseed_text += \" \" + output_word\n",
        "print()\n",
        "print()\n",
        "print(seed_text)"
      ],
      "execution_count": 140,
      "outputs": [
        {
          "output_type": "stream",
          "text": [
            "/usr/local/lib/python3.7/dist-packages/tensorflow/python/keras/engine/sequential.py:455: UserWarning: `model.predict_classes()` is deprecated and will be removed after 2021-01-01. Please use instead:* `np.argmax(model.predict(x), axis=-1)`,   if your model does multi-class classification   (e.g. if it uses a `softmax` last-layer activation).* `(model.predict(x) > 0.5).astype(\"int32\")`,   if your model does binary classification   (e.g. if it uses a `sigmoid` last-layer activation).\n",
            "  warnings.warn('`model.predict_classes()` is deprecated and '\n"
          ],
          "name": "stderr"
        },
        {
          "output_type": "stream",
          "text": [
            "\n",
            "\n",
            "the first time can maximize 12 leaving to solve yourself good what you criticize he helped the broader 7 “pursue what is meaningful not only was almost impossible\n"
          ],
          "name": "stdout"
        }
      ]
    },
    {
      "cell_type": "code",
      "metadata": {
        "id": "37iSfjw0TQeG"
      },
      "source": [
        ""
      ],
      "execution_count": null,
      "outputs": []
    }
  ]
}