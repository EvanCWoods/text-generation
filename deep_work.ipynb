{
  "nbformat": 4,
  "nbformat_minor": 0,
  "metadata": {
    "colab": {
      "name": "deep-work.ipynb",
      "provenance": [],
      "authorship_tag": "ABX9TyOTgch3UHChaRBthPzTGePG"
    },
    "kernelspec": {
      "name": "python3",
      "display_name": "Python 3"
    },
    "language_info": {
      "name": "python"
    }
  },
  "cells": [
    {
      "cell_type": "code",
      "metadata": {
        "id": "vMs62B3LjZFJ"
      },
      "source": [
        "import tensorflow as tf\n",
        "import numpy as np\n",
        "import matplotlib.pyplot as plt\n",
        "from tensorflow.keras.preprocessing.text import Tokenizer\n",
        "from tensorflow.keras.preprocessing.sequence import pad_sequences"
      ],
      "execution_count": 1,
      "outputs": []
    },
    {
      "cell_type": "code",
      "metadata": {
        "colab": {
          "base_uri": "https://localhost:8080/"
        },
        "id": "b6sfk7bQjnJG",
        "outputId": "54781957-12db-40ad-8f43-6a2c8b04df21"
      },
      "source": [
        "data_path = '/content/data.txt'\n",
        "\n",
        "with open (data_path) as f:\n",
        "  text = f.read()\n",
        "\n",
        "print(text[:120])"
      ],
      "execution_count": 9,
      "outputs": [
        {
          "output_type": "stream",
          "text": [
            "In the technological era the ability to work deeply and thoughtfully on a specific issue is becoming increasingly rare. \n"
          ],
          "name": "stdout"
        }
      ]
    },
    {
      "cell_type": "code",
      "metadata": {
        "colab": {
          "base_uri": "https://localhost:8080/"
        },
        "id": "5Q6Eovwsj6Mq",
        "outputId": "49913093-a5af-4059-f87e-8b9f16beab36"
      },
      "source": [
        "corpus = text.lower().split('.')\n",
        "print(corpus[0])"
      ],
      "execution_count": 10,
      "outputs": [
        {
          "output_type": "stream",
          "text": [
            "in the technological era the ability to work deeply and thoughtfully on a specific issue is becoming increasingly rare\n"
          ],
          "name": "stdout"
        }
      ]
    },
    {
      "cell_type": "code",
      "metadata": {
        "colab": {
          "base_uri": "https://localhost:8080/"
        },
        "id": "3JUeler_kByD",
        "outputId": "f29209a3-1965-476e-c531-18a4d6bd3ea8"
      },
      "source": [
        "tokenizer = Tokenizer()\n",
        "tokenizer.fit_on_texts(corpus)\n",
        "word_index = tokenizer.word_index\n",
        "total_words = len(word_index) + 1\n",
        "print(total_words)"
      ],
      "execution_count": 8,
      "outputs": [
        {
          "output_type": "stream",
          "text": [
            "299\n"
          ],
          "name": "stdout"
        }
      ]
    },
    {
      "cell_type": "code",
      "metadata": {
        "colab": {
          "base_uri": "https://localhost:8080/"
        },
        "id": "2pe2lMFzkekZ",
        "outputId": "508979d7-1a43-49db-e0e0-d298d88c73bd"
      },
      "source": [
        "input_sequences = []\n",
        "\n",
        "for line in corpus:\n",
        "  token_list = tokenizer.texts_to_sequences([line])[0]\n",
        "  for i in range(1, len(token_list)):\n",
        "    n_gram_sequences = token_list[:i+1]\n",
        "    input_sequences.append(n_gram_sequences)\n",
        "  \n",
        "max_sequence_length = max([len(x) for x in input_sequences])\n",
        "input_sequences = np.array(tf.keras.preprocessing.sequence.pad_sequences(input_sequences,\n",
        "                                                                         maxlen=max_sequence_length))\n",
        "\n",
        "print(max_sequence_length)"
      ],
      "execution_count": 18,
      "outputs": [
        {
          "output_type": "stream",
          "text": [
            "52\n"
          ],
          "name": "stdout"
        }
      ]
    },
    {
      "cell_type": "code",
      "metadata": {
        "id": "yTAHe-gylPRe"
      },
      "source": [
        "xs = input_sequences[:,:-1]\n",
        "ys = input_sequences[:,-1]\n",
        "labels = tf.keras.utils.to_categorical(ys, num_classes=total_words)"
      ],
      "execution_count": 19,
      "outputs": []
    },
    {
      "cell_type": "code",
      "metadata": {
        "colab": {
          "base_uri": "https://localhost:8080/"
        },
        "id": "nNnkpDQQmYRX",
        "outputId": "bb6d17f2-578f-4f8c-e23a-030e3eae2ff5"
      },
      "source": [
        "print(xs[0], ys[0])\n",
        "print(xs[1], ys[1])"
      ],
      "execution_count": 20,
      "outputs": [
        {
          "output_type": "stream",
          "text": [
            "[ 0  0  0  0  0  0  0  0  0  0  0  0  0  0  0  0  0  0  0  0  0  0  0  0\n",
            "  0  0  0  0  0  0  0  0  0  0  0  0  0  0  0  0  0  0  0  0  0  0  0  0\n",
            "  0  0 12] 1\n",
            "[ 0  0  0  0  0  0  0  0  0  0  0  0  0  0  0  0  0  0  0  0  0  0  0  0\n",
            "  0  0  0  0  0  0  0  0  0  0  0  0  0  0  0  0  0  0  0  0  0  0  0  0\n",
            "  0 12  1] 73\n"
          ],
          "name": "stdout"
        }
      ]
    },
    {
      "cell_type": "code",
      "metadata": {
        "colab": {
          "base_uri": "https://localhost:8080/"
        },
        "id": "6dNHwnBXmeoe",
        "outputId": "683f789b-6e47-47d3-abe7-2912906eaaf9"
      },
      "source": [
        "model = tf.keras.Sequential([\n",
        "  tf.keras.layers.Embedding(total_words, 32, input_length=max_sequence_length),\n",
        "  tf.keras.layers.Bidirectional(tf.keras.layers.LSTM(64, return_sequences=True)),\n",
        "  tf.keras.layers.LSTM(64),\n",
        "  tf.keras.layers.Dense(64, activation='relu'),\n",
        "  tf.keras.layers.Dense(150, activation='relu'),\n",
        "  tf.keras.layers.Dense(299, activation='softmax')\n",
        "])\n",
        "\n",
        "model.compile(loss='categorical_crossentropy',\n",
        "              optimizer='adam',\n",
        "              metrics=['accuracy'])\n",
        "\n",
        "history = model.fit(xs, labels, epochs=100)"
      ],
      "execution_count": 21,
      "outputs": [
        {
          "output_type": "stream",
          "text": [
            "Epoch 1/100\n",
            "WARNING:tensorflow:Model was constructed with shape (None, 52) for input KerasTensor(type_spec=TensorSpec(shape=(None, 52), dtype=tf.float32, name='embedding_input'), name='embedding_input', description=\"created by layer 'embedding_input'\"), but it was called on an input with incompatible shape (None, 51).\n",
            "WARNING:tensorflow:Model was constructed with shape (None, 52) for input KerasTensor(type_spec=TensorSpec(shape=(None, 52), dtype=tf.float32, name='embedding_input'), name='embedding_input', description=\"created by layer 'embedding_input'\"), but it was called on an input with incompatible shape (None, 51).\n",
            "26/26 [==============================] - 7s 79ms/step - loss: 5.5507 - accuracy: 0.0458\n",
            "Epoch 2/100\n",
            "26/26 [==============================] - 2s 79ms/step - loss: 5.1477 - accuracy: 0.0545\n",
            "Epoch 3/100\n",
            "26/26 [==============================] - 2s 77ms/step - loss: 5.0436 - accuracy: 0.0619\n",
            "Epoch 4/100\n",
            "26/26 [==============================] - 2s 77ms/step - loss: 5.0247 - accuracy: 0.0619\n",
            "Epoch 5/100\n",
            "26/26 [==============================] - 2s 78ms/step - loss: 5.0011 - accuracy: 0.0619\n",
            "Epoch 6/100\n",
            "26/26 [==============================] - 2s 79ms/step - loss: 4.9397 - accuracy: 0.0532\n",
            "Epoch 7/100\n",
            "26/26 [==============================] - 2s 77ms/step - loss: 4.8036 - accuracy: 0.0656\n",
            "Epoch 8/100\n",
            "26/26 [==============================] - 2s 79ms/step - loss: 4.7161 - accuracy: 0.0705\n",
            "Epoch 9/100\n",
            "26/26 [==============================] - 2s 78ms/step - loss: 4.6244 - accuracy: 0.0755\n",
            "Epoch 10/100\n",
            "26/26 [==============================] - 2s 76ms/step - loss: 4.5338 - accuracy: 0.0829\n",
            "Epoch 11/100\n",
            "26/26 [==============================] - 2s 76ms/step - loss: 4.4517 - accuracy: 0.0854\n",
            "Epoch 12/100\n",
            "26/26 [==============================] - 2s 76ms/step - loss: 4.4180 - accuracy: 0.0978\n",
            "Epoch 13/100\n",
            "26/26 [==============================] - 2s 76ms/step - loss: 4.3361 - accuracy: 0.1064\n",
            "Epoch 14/100\n",
            "26/26 [==============================] - 2s 78ms/step - loss: 4.2402 - accuracy: 0.1225\n",
            "Epoch 15/100\n",
            "26/26 [==============================] - 2s 77ms/step - loss: 4.2198 - accuracy: 0.1188\n",
            "Epoch 16/100\n",
            "26/26 [==============================] - 2s 76ms/step - loss: 4.1131 - accuracy: 0.1374\n",
            "Epoch 17/100\n",
            "26/26 [==============================] - 2s 77ms/step - loss: 4.0232 - accuracy: 0.1535\n",
            "Epoch 18/100\n",
            "26/26 [==============================] - 2s 75ms/step - loss: 3.9624 - accuracy: 0.1621\n",
            "Epoch 19/100\n",
            "26/26 [==============================] - 2s 77ms/step - loss: 3.9256 - accuracy: 0.1436\n",
            "Epoch 20/100\n",
            "26/26 [==============================] - 2s 78ms/step - loss: 3.8422 - accuracy: 0.1646\n",
            "Epoch 21/100\n",
            "26/26 [==============================] - 2s 77ms/step - loss: 3.8107 - accuracy: 0.1733\n",
            "Epoch 22/100\n",
            "26/26 [==============================] - 2s 78ms/step - loss: 3.7577 - accuracy: 0.1757\n",
            "Epoch 23/100\n",
            "26/26 [==============================] - 2s 76ms/step - loss: 3.7279 - accuracy: 0.1757\n",
            "Epoch 24/100\n",
            "26/26 [==============================] - 2s 79ms/step - loss: 3.6696 - accuracy: 0.1943\n",
            "Epoch 25/100\n",
            "26/26 [==============================] - 2s 76ms/step - loss: 3.6126 - accuracy: 0.1844\n",
            "Epoch 26/100\n",
            "26/26 [==============================] - 2s 76ms/step - loss: 3.5887 - accuracy: 0.1894\n",
            "Epoch 27/100\n",
            "26/26 [==============================] - 2s 75ms/step - loss: 3.5093 - accuracy: 0.1993\n",
            "Epoch 28/100\n",
            "26/26 [==============================] - 2s 75ms/step - loss: 3.4721 - accuracy: 0.2129\n",
            "Epoch 29/100\n",
            "26/26 [==============================] - 2s 77ms/step - loss: 3.4272 - accuracy: 0.2054\n",
            "Epoch 30/100\n",
            "26/26 [==============================] - 2s 76ms/step - loss: 3.3614 - accuracy: 0.2265\n",
            "Epoch 31/100\n",
            "26/26 [==============================] - 2s 76ms/step - loss: 3.3467 - accuracy: 0.2191\n",
            "Epoch 32/100\n",
            "26/26 [==============================] - 2s 76ms/step - loss: 3.2886 - accuracy: 0.2265\n",
            "Epoch 33/100\n",
            "26/26 [==============================] - 2s 76ms/step - loss: 3.2538 - accuracy: 0.2240\n",
            "Epoch 34/100\n",
            "26/26 [==============================] - 2s 76ms/step - loss: 3.1999 - accuracy: 0.2351\n",
            "Epoch 35/100\n",
            "26/26 [==============================] - 2s 78ms/step - loss: 3.1667 - accuracy: 0.2426\n",
            "Epoch 36/100\n",
            "26/26 [==============================] - 2s 76ms/step - loss: 3.1289 - accuracy: 0.2376\n",
            "Epoch 37/100\n",
            "26/26 [==============================] - 2s 78ms/step - loss: 3.1074 - accuracy: 0.2376\n",
            "Epoch 38/100\n",
            "26/26 [==============================] - 2s 79ms/step - loss: 3.0638 - accuracy: 0.2512\n",
            "Epoch 39/100\n",
            "26/26 [==============================] - 2s 76ms/step - loss: 3.0023 - accuracy: 0.2500\n",
            "Epoch 40/100\n",
            "26/26 [==============================] - 2s 77ms/step - loss: 2.9327 - accuracy: 0.2611\n",
            "Epoch 41/100\n",
            "26/26 [==============================] - 2s 75ms/step - loss: 2.9281 - accuracy: 0.2611\n",
            "Epoch 42/100\n",
            "26/26 [==============================] - 2s 76ms/step - loss: 2.8842 - accuracy: 0.2686\n",
            "Epoch 43/100\n",
            "26/26 [==============================] - 2s 76ms/step - loss: 2.8355 - accuracy: 0.2698\n",
            "Epoch 44/100\n",
            "26/26 [==============================] - 2s 78ms/step - loss: 2.7980 - accuracy: 0.2735\n",
            "Epoch 45/100\n",
            "26/26 [==============================] - 2s 77ms/step - loss: 2.7069 - accuracy: 0.2921\n",
            "Epoch 46/100\n",
            "26/26 [==============================] - 2s 78ms/step - loss: 2.6576 - accuracy: 0.2859\n",
            "Epoch 47/100\n",
            "26/26 [==============================] - 2s 79ms/step - loss: 2.6475 - accuracy: 0.2983\n",
            "Epoch 48/100\n",
            "26/26 [==============================] - 2s 78ms/step - loss: 2.6478 - accuracy: 0.2995\n",
            "Epoch 49/100\n",
            "26/26 [==============================] - 2s 78ms/step - loss: 2.6472 - accuracy: 0.2946\n",
            "Epoch 50/100\n",
            "26/26 [==============================] - 2s 83ms/step - loss: 2.5437 - accuracy: 0.3007\n",
            "Epoch 51/100\n",
            "26/26 [==============================] - 2s 76ms/step - loss: 2.4665 - accuracy: 0.3218\n",
            "Epoch 52/100\n",
            "26/26 [==============================] - 2s 78ms/step - loss: 2.4374 - accuracy: 0.3342\n",
            "Epoch 53/100\n",
            "26/26 [==============================] - 2s 76ms/step - loss: 2.4357 - accuracy: 0.3267\n",
            "Epoch 54/100\n",
            "26/26 [==============================] - 2s 76ms/step - loss: 2.3601 - accuracy: 0.3391\n",
            "Epoch 55/100\n",
            "26/26 [==============================] - 2s 80ms/step - loss: 2.2957 - accuracy: 0.3478\n",
            "Epoch 56/100\n",
            "26/26 [==============================] - 2s 75ms/step - loss: 2.3082 - accuracy: 0.3502\n",
            "Epoch 57/100\n",
            "26/26 [==============================] - 2s 76ms/step - loss: 2.2381 - accuracy: 0.3478\n",
            "Epoch 58/100\n",
            "26/26 [==============================] - 2s 75ms/step - loss: 2.1520 - accuracy: 0.3713\n",
            "Epoch 59/100\n",
            "26/26 [==============================] - 2s 77ms/step - loss: 2.1463 - accuracy: 0.3626\n",
            "Epoch 60/100\n",
            "26/26 [==============================] - 2s 76ms/step - loss: 2.1696 - accuracy: 0.3589\n",
            "Epoch 61/100\n",
            "26/26 [==============================] - 2s 77ms/step - loss: 2.0826 - accuracy: 0.3787\n",
            "Epoch 62/100\n",
            "26/26 [==============================] - 2s 78ms/step - loss: 2.0676 - accuracy: 0.3601\n",
            "Epoch 63/100\n",
            "26/26 [==============================] - 2s 78ms/step - loss: 2.0260 - accuracy: 0.4010\n",
            "Epoch 64/100\n",
            "26/26 [==============================] - 2s 79ms/step - loss: 1.9782 - accuracy: 0.3824\n",
            "Epoch 65/100\n",
            "26/26 [==============================] - 2s 79ms/step - loss: 1.9557 - accuracy: 0.4146\n",
            "Epoch 66/100\n",
            "26/26 [==============================] - 2s 77ms/step - loss: 1.9086 - accuracy: 0.4171\n",
            "Epoch 67/100\n",
            "26/26 [==============================] - 2s 77ms/step - loss: 1.9351 - accuracy: 0.4257\n",
            "Epoch 68/100\n",
            "26/26 [==============================] - 2s 78ms/step - loss: 1.8223 - accuracy: 0.4418\n",
            "Epoch 69/100\n",
            "26/26 [==============================] - 2s 75ms/step - loss: 1.7606 - accuracy: 0.4653\n",
            "Epoch 70/100\n",
            "26/26 [==============================] - 2s 76ms/step - loss: 1.7967 - accuracy: 0.4406\n",
            "Epoch 71/100\n",
            "26/26 [==============================] - 2s 76ms/step - loss: 1.7872 - accuracy: 0.4295\n",
            "Epoch 72/100\n",
            "26/26 [==============================] - 2s 76ms/step - loss: 1.7244 - accuracy: 0.4715\n",
            "Epoch 73/100\n",
            "26/26 [==============================] - 2s 77ms/step - loss: 1.5781 - accuracy: 0.4975\n",
            "Epoch 74/100\n",
            "26/26 [==============================] - 2s 78ms/step - loss: 1.5185 - accuracy: 0.5111\n",
            "Epoch 75/100\n",
            "26/26 [==============================] - 2s 77ms/step - loss: 1.6282 - accuracy: 0.4938\n",
            "Epoch 76/100\n",
            "26/26 [==============================] - 2s 79ms/step - loss: 1.9193 - accuracy: 0.4542\n",
            "Epoch 77/100\n",
            "26/26 [==============================] - 2s 78ms/step - loss: 1.6314 - accuracy: 0.4913\n",
            "Epoch 78/100\n",
            "26/26 [==============================] - 2s 77ms/step - loss: 1.5212 - accuracy: 0.4765\n",
            "Epoch 79/100\n",
            "26/26 [==============================] - 2s 79ms/step - loss: 1.4641 - accuracy: 0.5235\n",
            "Epoch 80/100\n",
            "26/26 [==============================] - 2s 82ms/step - loss: 1.3802 - accuracy: 0.5470\n",
            "Epoch 81/100\n",
            "26/26 [==============================] - 2s 78ms/step - loss: 1.2691 - accuracy: 0.6027\n",
            "Epoch 82/100\n",
            "26/26 [==============================] - 2s 79ms/step - loss: 1.2169 - accuracy: 0.6027\n",
            "Epoch 83/100\n",
            "26/26 [==============================] - 2s 79ms/step - loss: 1.1726 - accuracy: 0.6250\n",
            "Epoch 84/100\n",
            "26/26 [==============================] - 2s 76ms/step - loss: 1.1340 - accuracy: 0.6522\n",
            "Epoch 85/100\n",
            "26/26 [==============================] - 2s 76ms/step - loss: 1.1372 - accuracy: 0.6436\n",
            "Epoch 86/100\n",
            "26/26 [==============================] - 2s 77ms/step - loss: 1.1332 - accuracy: 0.6411\n",
            "Epoch 87/100\n",
            "26/26 [==============================] - 2s 76ms/step - loss: 1.1310 - accuracy: 0.6349\n",
            "Epoch 88/100\n",
            "26/26 [==============================] - 2s 76ms/step - loss: 1.0515 - accuracy: 0.6658\n",
            "Epoch 89/100\n",
            "26/26 [==============================] - 2s 76ms/step - loss: 1.0625 - accuracy: 0.6473\n",
            "Epoch 90/100\n",
            "26/26 [==============================] - 2s 77ms/step - loss: 1.0218 - accuracy: 0.6683\n",
            "Epoch 91/100\n",
            "26/26 [==============================] - 2s 77ms/step - loss: 1.0216 - accuracy: 0.6757\n",
            "Epoch 92/100\n",
            "26/26 [==============================] - 2s 77ms/step - loss: 1.0065 - accuracy: 0.6832\n",
            "Epoch 93/100\n",
            "26/26 [==============================] - 2s 77ms/step - loss: 0.9226 - accuracy: 0.7228\n",
            "Epoch 94/100\n",
            "26/26 [==============================] - 2s 77ms/step - loss: 0.9391 - accuracy: 0.7116\n",
            "Epoch 95/100\n",
            "26/26 [==============================] - 2s 79ms/step - loss: 0.8694 - accuracy: 0.7277\n",
            "Epoch 96/100\n",
            "26/26 [==============================] - 2s 77ms/step - loss: 0.7899 - accuracy: 0.7574\n",
            "Epoch 97/100\n",
            "26/26 [==============================] - 2s 80ms/step - loss: 0.7939 - accuracy: 0.7587\n",
            "Epoch 98/100\n",
            "26/26 [==============================] - 2s 77ms/step - loss: 0.7660 - accuracy: 0.7673\n",
            "Epoch 99/100\n",
            "26/26 [==============================] - 2s 78ms/step - loss: 0.7359 - accuracy: 0.7847\n",
            "Epoch 100/100\n",
            "26/26 [==============================] - 2s 78ms/step - loss: 0.7359 - accuracy: 0.7995\n"
          ],
          "name": "stdout"
        }
      ]
    },
    {
      "cell_type": "code",
      "metadata": {
        "colab": {
          "base_uri": "https://localhost:8080/"
        },
        "id": "Nhb_-4ZknOZ6",
        "outputId": "cab79773-2427-4f4c-dfc9-07dad4bd533a"
      },
      "source": [
        "seed_text = 'the first time'\n",
        "next_words = 25\n",
        "\n",
        "for _ in range(next_words):\n",
        "\ttoken_list = tokenizer.texts_to_sequences([seed_text])[0]\n",
        "\ttoken_list = pad_sequences([token_list], maxlen=max_sequence_length-1, padding='pre')\n",
        "\tpredicted = model.predict_classes(token_list, verbose=0)\n",
        "\toutput_word = \"\"\n",
        "\tfor word, index in tokenizer.word_index.items():\n",
        "\t\tif index == predicted:\n",
        "\t\t\toutput_word = word\n",
        "\t\t\tbreak\n",
        "\tseed_text += \" \" + output_word\n",
        "print(seed_text)"
      ],
      "execution_count": 25,
      "outputs": [
        {
          "output_type": "stream",
          "text": [
            "/usr/local/lib/python3.7/dist-packages/tensorflow/python/keras/engine/sequential.py:455: UserWarning: `model.predict_classes()` is deprecated and will be removed after 2021-01-01. Please use instead:* `np.argmax(model.predict(x), axis=-1)`,   if your model does multi-class classification   (e.g. if it uses a `softmax` last-layer activation).* `(model.predict(x) > 0.5).astype(\"int32\")`,   if your model does binary classification   (e.g. if it uses a `sigmoid` last-layer activation).\n",
            "  warnings.warn('`model.predict_classes()` is deprecated and '\n"
          ],
          "name": "stderr"
        },
        {
          "output_type": "stream",
          "text": [
            "the first time just you're eliminated the concept of boredom our day than remove distractions which keep your ability to think deeply is a skill that is the\n"
          ],
          "name": "stdout"
        }
      ]
    },
    {
      "cell_type": "code",
      "metadata": {
        "id": "GRKcmQ9noCDW"
      },
      "source": [
        ""
      ],
      "execution_count": null,
      "outputs": []
    }
  ]
}