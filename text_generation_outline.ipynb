{
  "nbformat": 4,
  "nbformat_minor": 0,
  "metadata": {
    "colab": {
      "name": "text-generation-outline.ipynb",
      "provenance": [],
      "authorship_tag": "ABX9TyPv8HCO983VGIYWbm0XmaV5"
    },
    "kernelspec": {
      "name": "python3",
      "display_name": "Python 3"
    },
    "language_info": {
      "name": "python"
    }
  },
  "cells": [
    {
      "cell_type": "markdown",
      "metadata": {
        "id": "HWCAjPdOt_17"
      },
      "source": [
        "# Imports:"
      ]
    },
    {
      "cell_type": "code",
      "metadata": {
        "id": "O8ndPNxJt8Oe"
      },
      "source": [
        "import tensorflow as tf\n",
        "import matplotlib.pyplot as plt\n",
        "from tensorflow.keras.preprocessing.text import Tokenizer\n",
        "from tensorflow.keras.preprocessing.sequence import pad_sequences"
      ],
      "execution_count": 1,
      "outputs": []
    },
    {
      "cell_type": "markdown",
      "metadata": {
        "id": "IrCrlK4xuMQ9"
      },
      "source": [
        "# Get The Data:"
      ]
    },
    {
      "cell_type": "code",
      "metadata": {
        "id": "26pXb8oLuLiK"
      },
      "source": [
        "file_path = '/content/file.txt'\n",
        "\n",
        "with open(filepath) as f:\n",
        "  data = f.read()\n",
        "\n",
        "# Check the first 100 characters of the data\n",
        "print(data[:100])"
      ],
      "execution_count": null,
      "outputs": []
    },
    {
      "cell_type": "markdown",
      "metadata": {
        "id": "1__Z6glKujEq"
      },
      "source": [
        "# Preprocess The Data:"
      ]
    },
    {
      "cell_type": "code",
      "metadata": {
        "id": "7ZL_lAkYuiLT"
      },
      "source": [
        "# Split the data by full stops (or anything), make it lowercase and store it in the variable corpus\n",
        "corpus = data.lower().split('.')\n",
        "\n",
        "# Check the first element in the courpus\n",
        "print(corpus[0])"
      ],
      "execution_count": null,
      "outputs": []
    },
    {
      "cell_type": "code",
      "metadata": {
        "id": "AcO3RLRuvB1l"
      },
      "source": [
        "# Fit the Tokenizer to the corpus and get the word index for the corpus\n",
        "tokenizer = Tokenizer()\n",
        "tokenizer.fit_on_texts(corpus)\n",
        "word_index = tokenizer.word_index\n",
        "total_words = len(word_index) + 1"
      ],
      "execution_count": null,
      "outputs": []
    },
    {
      "cell_type": "code",
      "metadata": {
        "id": "NLJKb1SyvYcF"
      },
      "source": [
        "# Create a list to store the processed data\n",
        "input_sequences = []\n",
        "\n",
        "# take each line in the corpus as a subset\n",
        "# n_gram_sequences splits each sentence to a subset with i+1 length which then gets appended to the input_sequences\n",
        "for line in coprus:\n",
        "  token_list = tokenizer.texts_to_sequences(coprus)\n",
        "  for i in range(1, len(token_list)):\n",
        "    n_gram_sequences = token_list[:i+1]\n",
        "    input_sequences.append(n_gram_sequences)\n",
        "\n",
        "# set the max length to that of hte longest input_sequence\n",
        "max_sequence_length = max([len(x) for x in input_sequences])\n",
        "# Pad the data\n",
        "input_sequences - np.array(tf.keras.preprocessing.sequence.pad_sequences(input_sequences, \n",
        "                                                                         maxlen=max_sequence_length))"
      ],
      "execution_count": null,
      "outputs": []
    },
    {
      "cell_type": "code",
      "metadata": {
        "id": "pNWGQBXFwHbe"
      },
      "source": [
        "# Create x data with everything but the last word in the sequence\n",
        "xs = input_sequences[:,:-1]\n",
        "# Create the y data with only the last word in the sequence\n",
        "ys = input_sequences[:,-1]\n",
        "# One hot encode the y data to represent the correct label\n",
        "labels = tf.keras.utils.to_categorical(ys, num_classes=total_words)"
      ],
      "execution_count": null,
      "outputs": []
    },
    {
      "cell_type": "markdown",
      "metadata": {
        "id": "-WwPp_Zdx5Xe"
      },
      "source": [
        "# Create The Model:"
      ]
    },
    {
      "cell_type": "code",
      "metadata": {
        "id": "5jXSQsbmxFbY"
      },
      "source": [
        "# Create the model\n",
        "model = tf.keras.Sequential([\n",
        "  tf.keras.layers.Embedding(total_words, 32, input_length=max_sequence_length),\n",
        "  tf.keras.layers.Bidirectional(tf.keras.layers.LSTM(64, return_sequences=True)),\n",
        "  tf.keras.layers.LSTM(64),\n",
        "  tf.keras.layers.Dense(128, activation='relu'),\n",
        "  tf.keras.layers.Dense(total_words/2, activation='relu'),\n",
        "  tf.keras.layers.Dense(total_words, activation='relu'),\n",
        "])\n",
        "\n",
        "model.compile(loss='categorical_crossentropy',\n",
        "              optimizer='adam',\n",
        "              metrics=['accuracy'])\n",
        "\n",
        "history = model.fit(xs, labels, epochs=100)"
      ],
      "execution_count": null,
      "outputs": []
    }
  ]
}